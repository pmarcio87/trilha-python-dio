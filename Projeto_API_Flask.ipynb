{
  "nbformat": 4,
  "nbformat_minor": 0,
  "metadata": {
    "colab": {
      "provenance": [],
      "authorship_tag": "ABX9TyPtLzEXz7zb+Eg6TXhzC3np",
      "include_colab_link": true
    },
    "kernelspec": {
      "name": "python3",
      "display_name": "Python 3"
    },
    "language_info": {
      "name": "python"
    }
  },
  "cells": [
    {
      "cell_type": "markdown",
      "metadata": {
        "id": "view-in-github",
        "colab_type": "text"
      },
      "source": [
        "<a href=\"https://colab.research.google.com/github/pmarcio87/trilha-python-dio/blob/main/Projeto_API_Flask.ipynb\" target=\"_parent\"><img src=\"https://colab.research.google.com/assets/colab-badge.svg\" alt=\"Open In Colab\"/></a>"
      ]
    },
    {
      "cell_type": "code",
      "execution_count": null,
      "metadata": {
        "id": "tCBiCTPdfCrD"
      },
      "outputs": [],
      "source": [
        "!pip install flask\n",
        "!pip install flask-ngrok\n",
        "!pip install fastapi nest-asyncio pyngrok uvicorn"
      ]
    },
    {
      "cell_type": "code",
      "source": [
        "from flask import *\n",
        "from flask_ngrok import run_with_ngrok\n",
        "import jsonify\n",
        "\n",
        "app = Flask(__name__)"
      ],
      "metadata": {
        "id": "n2pxktQufPsn"
      },
      "execution_count": null,
      "outputs": []
    },
    {
      "cell_type": "code",
      "source": [
        "@app.route(\"/index\")\n",
        "\n",
        "sheet = [{\n",
        "    \"Number\":1,\n",
        "    \"Name\":\"Mahesh\",\n",
        "    \"Age\":25,\n",
        "    \"City\":\"Bangalore\",\n",
        "    \"Country\":\"India\"\n",
        "},{\n",
        "    \"Number\":2,\n",
        "    \"Name\":\"Alex\",\n",
        "    \"Age\":26,\n",
        "    \"City\":\"London\",\n",
        "    \"Country\":\"UK\"\n",
        "},{\n",
        "    \"Number\":3,\n",
        "    \"Name\":\"David\",\n",
        "    \"Age\":27,\n",
        "    \"City\":\"San Francisco\",\n",
        "    \"Country\":\"USA\"\n",
        "},{\n",
        "    \"Number\":4,\n",
        "    \"Name\":\"John\",\n",
        "    \"Age\":28,\n",
        "    \"City\":\"Toronto\",\n",
        "    \"Country\":\"Canada\"\n",
        "},{\n",
        "    \"Number\":5,\n",
        "    \"Name\":\"Chris\",\n",
        "    \"Age\":29,\n",
        "    \"City\":\"Paris\",\n",
        "    \"Country\":\"France\"\n",
        "}]\n",
        "\n",
        "\n",
        "def home():\n",
        "  return jsonify(sheet)\n",
        "\n",
        "run_with_ngrok(app)\n",
        "app.run()"
      ],
      "metadata": {
        "id": "4CLarEdvfPqO"
      },
      "execution_count": null,
      "outputs": []
    },
    {
      "cell_type": "code",
      "source": [
        "from fastapi import FastAPI\n",
        "import nest_asyncio\n",
        "from pyngrok import ngrok\n",
        "import uvicorn\n",
        "\n",
        "app = FastAPI()\n",
        "\n",
        "@app.get(\"/index\")\n",
        "async def home():\n",
        "  return jsonify(sheet)\n",
        "\n",
        "ngrok_tunnel = ngrok.connect(8000)\n",
        "print(f\"Public URL:{ngrok_tunnel.public_url}\")\n",
        "nest_asyncio.apply()\n",
        "uvicorn.run(app, port=8000)"
      ],
      "metadata": {
        "id": "6Kxv7NIDfPoM"
      },
      "execution_count": null,
      "outputs": []
    },
    {
      "cell_type": "code",
      "source": [],
      "metadata": {
        "id": "3G_h7tixfPlp"
      },
      "execution_count": null,
      "outputs": []
    },
    {
      "cell_type": "code",
      "source": [],
      "metadata": {
        "id": "HNN8kqaBfPja"
      },
      "execution_count": null,
      "outputs": []
    },
    {
      "cell_type": "code",
      "source": [],
      "metadata": {
        "id": "gbCPquD5fPha"
      },
      "execution_count": null,
      "outputs": []
    },
    {
      "cell_type": "code",
      "source": [],
      "metadata": {
        "id": "wuJnGt6efPe_"
      },
      "execution_count": null,
      "outputs": []
    },
    {
      "cell_type": "code",
      "source": [],
      "metadata": {
        "id": "jk2jW0jNfPdC"
      },
      "execution_count": null,
      "outputs": []
    },
    {
      "cell_type": "code",
      "source": [],
      "metadata": {
        "id": "At8Pejd5fPao"
      },
      "execution_count": null,
      "outputs": []
    },
    {
      "cell_type": "code",
      "source": [],
      "metadata": {
        "id": "TeDcnCglfPYS"
      },
      "execution_count": null,
      "outputs": []
    }
  ]
}